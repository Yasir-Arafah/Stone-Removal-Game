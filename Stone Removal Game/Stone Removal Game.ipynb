{
  "cells": [
    {
      "cell_type": "code",
      "execution_count": null,
      "metadata": {
        "colab": {
          "base_uri": "https://localhost:8080/"
        },
        "id": "w8CnowRvXtLm",
        "outputId": "5314d631-b86b-42cf-b28b-504bb240f3bf"
      },
      "outputs": [
        {
          "output_type": "stream",
          "name": "stdout",
          "text": [
            "Initial Pile Size: 15\n",
            "\n",
            "Pile Size: 15\n",
            "\n",
            "Player's Turn\n",
            "Enter the number of stones to remove (1-3): 3\n",
            "Player removes 3 stone(s).\n",
            "\n",
            "Pile Size: 12\n",
            "\n",
            "AI's Turn\n",
            "AI is thinking...\n",
            "AI removes 1 stone(s).\n",
            "\n",
            "Pile Size: 11\n",
            "\n",
            "Player's Turn\n",
            "Enter the number of stones to remove (1-3): 3\n",
            "Player removes 3 stone(s).\n",
            "\n",
            "Pile Size: 8\n",
            "\n",
            "AI's Turn\n",
            "AI is thinking...\n",
            "AI removes 3 stone(s).\n",
            "\n",
            "Pile Size: 5\n",
            "\n",
            "Player's Turn\n",
            "Enter the number of stones to remove (1-3): 1\n",
            "Player removes 1 stone(s).\n",
            "\n",
            "Pile Size: 4\n",
            "\n",
            "AI's Turn\n",
            "AI is thinking...\n",
            "AI removes 1 stone(s).\n",
            "\n",
            "Pile Size: 3\n",
            "\n",
            "Player's Turn\n",
            "Enter the number of stones to remove (1-3): 3\n",
            "Player removes 3 stone(s).\n",
            "\n",
            "Player wins!\n"
          ]
        }
      ],
      "source": [
        "import random\n",
        "import time\n",
        "\n",
        "def play_game():\n",
        "    pile = random.randint(4, 30)\n",
        "    player_turn = random.choice([True, False])\n",
        "    print(\"Initial Pile Size:\", pile)\n",
        "\n",
        "    while pile > 0:\n",
        "        print(\"\\nPile Size:\", pile)\n",
        "\n",
        "        if player_turn:\n",
        "            print(\"\\nPlayer's Turn\")\n",
        "            player_choice = int(input(\"Enter the number of stones to remove (1-3): \"))\n",
        "            while player_choice < 1 or player_choice > 3 or player_choice > pile:\n",
        "                print(\"Invalid choice!! You can only remove maximum 3 stones at a time.\")\n",
        "                player_choice = int(input(\"Enter the number of stones to remove (1-3): \"))\n",
        "\n",
        "            pile -= player_choice\n",
        "            print(\"Player removes\", player_choice, \"stone(s).\")\n",
        "        else:\n",
        "            print(\"\\nAI's Turn\")\n",
        "            print(\"AI is thinking...\")\n",
        "            time.sleep(2)\n",
        "            ai_choice = get_ai_choice(pile)\n",
        "            pile -= ai_choice\n",
        "            print(\"AI removes\", ai_choice, \"stone(s).\")\n",
        "\n",
        "        player_turn = not player_turn\n",
        "\n",
        "\n",
        "    if player_turn:\n",
        "        print(\"\\nAI wins!\")\n",
        "    else:\n",
        "        print(\"\\nPlayer wins!\")\n",
        "\n",
        "def get_ai_choice(pile):\n",
        "    if pile <= 3:\n",
        "        return pile\n",
        "\n",
        "    winning_moves = [1, 2, 3]\n",
        "\n",
        "    for move in winning_moves:\n",
        "        if (pile - move) % 4 == 0:\n",
        "            return move\n",
        "\n",
        "\n",
        "    return random.choice(winning_moves)\n",
        "\n",
        "\n",
        "play_game()\n"
      ]
    }
  ],
  "metadata": {
    "colab": {
      "provenance": []
    },
    "kernelspec": {
      "display_name": "Python 3",
      "name": "python3"
    },
    "language_info": {
      "name": "python"
    }
  },
  "nbformat": 4,
  "nbformat_minor": 0
}